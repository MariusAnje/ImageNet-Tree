{
 "cells": [
  {
   "cell_type": "code",
   "execution_count": 1,
   "metadata": {},
   "outputs": [],
   "source": [
    "from utils import Node\n",
    "\n",
    "wordfile = open('words.txt','r')\n",
    "thelist = wordfile.read().split('\\n')\n",
    "thedict = {}\n",
    "idDict = {}\n",
    "thelist.remove('')\n",
    "for idn in thelist:\n",
    "    try:\n",
    "        ID, name = idn.split('\\t')\n",
    "    except:\n",
    "        print(idn)\n",
    "    thedict[name] = ID\n",
    "    idDict[ID] = name\n",
    "wordfile.close()\n",
    "\n",
    "papafile = open('is_a.txt','r')\n",
    "papalist = papafile.read().split('\\n')\n",
    "papalist.remove('')\n",
    "papadict = {}\n",
    "for idn in papalist:\n",
    "    #print (idn)\n",
    "    papa, son = idn.split(' ')\n",
    "    papadict[son] = papa\n",
    "papafile.close()\n",
    "\n",
    "valFile = open('ImageNet.txt', 'r')\n",
    "valList = valFile.read().split('\\n')\n",
    "valList.remove('')\n",
    "valNames = []\n",
    "for idn in valList:\n",
    "    valNames += [idn.split(':')[1][2:-2]]\n",
    "valFile.close()"
   ]
  },
  {
   "cell_type": "code",
   "execution_count": 2,
   "metadata": {},
   "outputs": [
    {
     "name": "stdout",
     "output_type": "stream",
     "text": [
      "n15074962\n",
      "['n08742578', 'n00001740']\n"
     ]
    }
   ],
   "source": [
    "def findpapas(ID, exist_papa):\n",
    "    try:\n",
    "        papa_ID = papadict[ID]\n",
    "        exist_papa += [papa_ID]\n",
    "        findpapas(papa_ID, exist_papa)\n",
    "    except:\n",
    "        return\n",
    "\n",
    "exist_papa = []\n",
    "for name in valNames:\n",
    "    ID = thedict[name]\n",
    "    this_papas = [ID]\n",
    "    findpapas(ID, this_papas)\n",
    "    exist_papa += [this_papas]\n",
    "exist_papa[151] += ['n00001740']\n",
    "print(papadict[ID])\n",
    "print(exist_papa[151])"
   ]
  },
  {
   "cell_type": "code",
   "execution_count": 3,
   "metadata": {},
   "outputs": [
    {
     "name": "stdout",
     "output_type": "stream",
     "text": [
      "mask\n",
      "agaric\n",
      "1898\n",
      "1000\n",
      "1706\n",
      "16\n"
     ]
    }
   ],
   "source": [
    "root = Node(ID = exist_papa[0][-1], name = idDict[exist_papa[0][-1]])\n",
    "for papas in exist_papa:\n",
    "    big_papa = root\n",
    "    nPapa = len(papas)\n",
    "    for i in range(nPapa - 2,-1,-1):\n",
    "        this_son = papas[i]\n",
    "        if big_papa.have_son(ID = this_son):\n",
    "            big_papa = big_papa.descend(ID = this_son)\n",
    "        else:\n",
    "            big_papa.add_son(ID = this_son, name = idDict[this_son])\n",
    "            big_papa = big_papa.descend(ID = this_son, name = idDict[this_son])\n",
    "\n",
    "leaf_List = []\n",
    "if root.count_leaves() != len(valNames):\n",
    "    leaf_List = root.find_leaves()\n",
    "    leaf_Names = []\n",
    "    for leaf in leaf_List:\n",
    "        leaf_Names += [leaf.name]\n",
    "    for i in valNames:\n",
    "        if not i in leaf_Names:\n",
    "            print(i)\n",
    "            root.find_node(name=i).add_son(name = i)\n",
    "print(root.count_nodes())\n",
    "root.squeeze()\n",
    "print(root.count_leaves())\n",
    "print(root.count_nodes())\n",
    "print(root.depth())"
   ]
  },
  {
   "cell_type": "code",
   "execution_count": null,
   "metadata": {},
   "outputs": [],
   "source": []
  }
 ],
 "metadata": {
  "kernelspec": {
   "display_name": "Python 3",
   "language": "python",
   "name": "python3"
  },
  "language_info": {
   "codemirror_mode": {
    "name": "ipython",
    "version": 3
   },
   "file_extension": ".py",
   "mimetype": "text/x-python",
   "name": "python",
   "nbconvert_exporter": "python",
   "pygments_lexer": "ipython3",
   "version": "3.5.2"
  }
 },
 "nbformat": 4,
 "nbformat_minor": 2
}
