{
 "cells": [
  {
   "cell_type": "code",
   "execution_count": 1,
   "metadata": {},
   "outputs": [],
   "source": [
    "import CreatTree\n",
    "from matplotlib import pyplot as plt"
   ]
  },
  {
   "cell_type": "code",
   "execution_count": 2,
   "metadata": {},
   "outputs": [
    {
     "name": "stdout",
     "output_type": "stream",
     "text": [
      "1000\n",
      "1898\n",
      "1386\n",
      "14\n",
      "1000\n"
     ]
    }
   ],
   "source": [
    "Tree = CreatTree.creatImageNetTree('words.txt', 'is_a.txt', 'ImageNet.txt')\n",
    "print(Tree.count_leaves())\n",
    "print(Tree.count_nodes())\n",
    "flag = True\n",
    "while flag:\n",
    "    flag = Tree.squeeze()\n",
    "print(Tree.count_nodes())\n",
    "print(Tree.depth())\n",
    "print(Tree.count_leaves())"
   ]
  },
  {
   "cell_type": "code",
   "execution_count": 3,
   "metadata": {},
   "outputs": [],
   "source": [
    "little_Tree = Tree.sons[0].sons[0].sons[0].sons[0].sons[6]"
   ]
  },
  {
   "cell_type": "code",
   "execution_count": 4,
   "metadata": {},
   "outputs": [
    {
     "data": {
      "text/plain": [
       "[<utils.INTree at 0x7f2d72358fd0>,\n",
       " <utils.INTree at 0x7f2d7237f128>,\n",
       " <utils.INTree at 0x7f2d7237fa20>]"
      ]
     },
     "execution_count": 4,
     "metadata": {},
     "output_type": "execute_result"
    }
   ],
   "source": [
    "def max_son_num(Tree):\n",
    "    if Tree.sons == []:\n",
    "        return Tree\n",
    "    else:\n",
    "        best_papa = Tree\n",
    "        for son in Tree.sons:\n",
    "            best_grandchild = max_son_num(son)\n",
    "            if len(best_grandchild.sons) > len(best_papa.sons):\n",
    "                best_papa = best_grandchild\n",
    "        return best_papa\n",
    "little_Tree.sons"
   ]
  },
  {
   "cell_type": "code",
   "execution_count": 5,
   "metadata": {},
   "outputs": [
    {
     "data": {
      "text/plain": [
       "[]"
      ]
     },
     "execution_count": 5,
     "metadata": {},
     "output_type": "execute_result"
    }
   ],
   "source": [
    "little_Tree.sons[1].sons"
   ]
  },
  {
   "cell_type": "code",
   "execution_count": 6,
   "metadata": {},
   "outputs": [
    {
     "name": "stdout",
     "output_type": "stream",
     "text": [
      "piece of cloth, piece of material\n"
     ]
    }
   ],
   "source": [
    "little_Tree.sons[0].print_name()"
   ]
  },
  {
   "cell_type": "code",
   "execution_count": null,
   "metadata": {},
   "outputs": [],
   "source": []
  }
 ],
 "metadata": {
  "kernelspec": {
   "display_name": "Python 3",
   "language": "python",
   "name": "python3"
  },
  "language_info": {
   "codemirror_mode": {
    "name": "ipython",
    "version": 3
   },
   "file_extension": ".py",
   "mimetype": "text/x-python",
   "name": "python",
   "nbconvert_exporter": "python",
   "pygments_lexer": "ipython3",
   "version": "3.5.2"
  }
 },
 "nbformat": 4,
 "nbformat_minor": 2
}
