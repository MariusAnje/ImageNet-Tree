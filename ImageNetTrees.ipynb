{
 "cells": [
  {
   "cell_type": "code",
   "execution_count": 1,
   "metadata": {},
   "outputs": [],
   "source": [
    "wordfile = open('words.txt','r')\n",
    "thelist = wordfile.read().split('\\n')\n",
    "thedict = {}\n",
    "idDict = {}\n",
    "thelist.remove('')\n",
    "for idn in thelist:\n",
    "    try:\n",
    "        ID, name = idn.split('\\t')\n",
    "    except:\n",
    "        print(idn)\n",
    "    thedict[name] = ID\n",
    "    idDict[ID] = name\n",
    "wordfile.close()\n",
    "\n",
    "papafile = open('is_a.txt','r')\n",
    "papalist = papafile.read().split('\\n')\n",
    "papalist.remove('')\n",
    "papadict = {}\n",
    "for idn in papalist:\n",
    "    #print (idn)\n",
    "    papa, son = idn.split(' ')\n",
    "    papadict[son] = papa\n",
    "papafile.close()"
   ]
  },
  {
   "cell_type": "code",
   "execution_count": 2,
   "metadata": {},
   "outputs": [],
   "source": [
    "valFile = open('ImageNet.txt', 'r')\n",
    "valList = valFile.read().split('\\n')\n",
    "valList.remove('')\n",
    "valNames = []\n",
    "for idn in valList:\n",
    "    valNames += [idn.split(':')[1][2:-2]]\n",
    "valFile.close()"
   ]
  },
  {
   "cell_type": "code",
   "execution_count": 3,
   "metadata": {},
   "outputs": [
    {
     "name": "stdout",
     "output_type": "stream",
     "text": [
      "n15074962\n",
      "['n08742578', 'n00001740']\n"
     ]
    }
   ],
   "source": [
    "def findpapas(ID, exist_papa):\n",
    "    try:\n",
    "        papa_ID = papadict[ID]\n",
    "        exist_papa += [papa_ID]\n",
    "        findpapas(papa_ID, exist_papa)\n",
    "    except:\n",
    "        return\n",
    "\n",
    "exist_papa = []\n",
    "for name in valNames:\n",
    "    ID = thedict[name]\n",
    "    this_papas = [ID]\n",
    "    findpapas(ID, this_papas)\n",
    "    exist_papa += [this_papas]\n",
    "exist_papa[151] += ['n00001740']\n",
    "print(papadict[ID])\n",
    "print(exist_papa[151])"
   ]
  },
  {
   "cell_type": "code",
   "execution_count": 4,
   "metadata": {},
   "outputs": [],
   "source": [
    "class Node():\n",
    "    def __init__(self, name = None, ID = None, papa = None):\n",
    "        if name:\n",
    "            self.name = name\n",
    "            self.ID = thedict[name]\n",
    "        else:\n",
    "            self.ID = ID\n",
    "            self.name = idDict[ID]\n",
    "        self.sons = []\n",
    "        self.papa = papa\n",
    "    \n",
    "    def add_son(self, name = None, ID = None):\n",
    "        if not self.have_son(name = name, ID = ID):\n",
    "            son = Node(name = name, ID = ID, papa = self)\n",
    "            self.sons += [son]\n",
    "    \n",
    "    def have_son(self, name = None, ID = None):\n",
    "        if name:\n",
    "            for son in self.sons:\n",
    "                if son.name == name:\n",
    "                    return True\n",
    "            return False\n",
    "        else:\n",
    "            for son in self.sons:\n",
    "                if son.ID == ID:\n",
    "                    return True\n",
    "            return False\n",
    "    \n",
    "    def descend(self, name = None, ID = None):\n",
    "        if name:\n",
    "            for son in self.sons:\n",
    "                if son.name == name:\n",
    "                    return son\n",
    "            raise NameError('No this son!')\n",
    "        else:\n",
    "            for son in self.sons:\n",
    "                if son.ID == ID:\n",
    "                    return son\n",
    "            raise NameError('No this son!')\n",
    "            \n",
    "    def find_node(self, ID = None, name = None):\n",
    "        if self.name == name or self.ID == ID:\n",
    "            return self\n",
    "        if self.sons == []:\n",
    "            return None\n",
    "        else:\n",
    "            for son in self.sons:\n",
    "                found = son.find_node(ID = ID, name = name)\n",
    "                if found:\n",
    "                    return found\n",
    "            return None\n",
    "        \n",
    "    def depth(self):\n",
    "        if self.sons == []:\n",
    "            return 1\n",
    "        else:\n",
    "            max_depth = 0\n",
    "            for son in self.sons:\n",
    "                son_depth = son.depth()\n",
    "                if son_depth > max_depth:\n",
    "                    max_depth = son_depth\n",
    "            return max_depth + 1\n",
    "    \n",
    "    def find_leaves(self, leaf_List = None):\n",
    "        if leaf_List == None:\n",
    "            leaf_List = []\n",
    "        if self.sons == []:\n",
    "            leaf_List += [self.name]\n",
    "            return 1\n",
    "        else:\n",
    "            leaves = 0\n",
    "            for son in self.sons:\n",
    "                son_leaves = son.find_leaves(leaf_List)\n",
    "                leaves += son_leaves\n",
    "            return leaves\n",
    "        \n",
    "    def count_leaves(self):\n",
    "        if self.sons == []:\n",
    "            return 1\n",
    "        else:\n",
    "            leaves = 0\n",
    "            for son in self.sons:\n",
    "                son_leaves = son.count_leaves()\n",
    "                leaves += son_leaves\n",
    "            return leaves\n",
    "    \n",
    "    def count_nodes(self):\n",
    "        if self.sons == []:\n",
    "            return 1\n",
    "        else:\n",
    "            nodes = 1\n",
    "            for son in self.sons:\n",
    "                son_nodes = son.count_nodes()\n",
    "                nodes += son_nodes\n",
    "            return nodes\n",
    "    \n",
    "    def is_leaf(self, ID = None, name = None):\n",
    "        if self.sons == []:\n",
    "            if self.name == name or self.ID == ID:\n",
    "                return True\n",
    "            else:\n",
    "                return False\n",
    "        else:\n",
    "            is_true = False\n",
    "            for son in self.sons:\n",
    "                son_true = son.is_leaf(ID, name)\n",
    "                is_true = is_true or son_true\n",
    "            return is_true\n",
    "        \n",
    "    def squeeze(self):\n",
    "        if self.sons == []:\n",
    "            return\n",
    "        else:\n",
    "            if len(self.sons) == 1:\n",
    "                only_child = self.sons[0]\n",
    "                self.papa.sons += [only_child]\n",
    "                only_child.papa = self.papa\n",
    "                self.papa.sons.remove(self)\n",
    "                only_child.squeeze()\n",
    "            else:\n",
    "                for son in self.sons:\n",
    "                    son.squeeze()"
   ]
  },
  {
   "cell_type": "code",
   "execution_count": 5,
   "metadata": {},
   "outputs": [
    {
     "name": "stdout",
     "output_type": "stream",
     "text": [
      "1899\n",
      "1000\n",
      "1707\n",
      "16\n"
     ]
    }
   ],
   "source": [
    "root = Node(ID = exist_papa[0][-1])\n",
    "for papas in exist_papa:\n",
    "    big_papa = root\n",
    "    nPapa = len(papas)\n",
    "    for i in range(nPapa - 2,-1,-1):\n",
    "        this_son = papas[i]\n",
    "        if big_papa.have_son(ID = this_son):\n",
    "            big_papa = big_papa.descend(ID = this_son)\n",
    "        else:\n",
    "            big_papa.add_son(ID = this_son)\n",
    "            big_papa = big_papa.descend(ID = this_son)\n",
    "\n",
    "leaf_List = []\n",
    "if root.find_leaves(leaf_List) != len(valNames):\n",
    "    for i in valNames:\n",
    "        if not i in leaf_List:\n",
    "            root.find_node(name=i).add_son(name = i)\n",
    "print(root.count_nodes())\n",
    "root.squeeze()\n",
    "print(root.count_leaves())\n",
    "print(root.count_nodes())\n",
    "print(root.depth())\n",
    "leaf_List = []\n",
    "root.find_leaves(leaf_List)\n",
    "for i in valNames:\n",
    "    if not i in leaf_List:\n",
    "        print(i)\n",
    "#root.sons[0].sons[0].sons[0].sons[1].sons[6].sons[1].sons[5].add_son(name = 'mask')"
   ]
  },
  {
   "cell_type": "code",
   "execution_count": 90,
   "metadata": {},
   "outputs": [
    {
     "name": "stdout",
     "output_type": "stream",
     "text": [
      "[<__main__.Node object at 0x7f2dda3d2ac8>]\n"
     ]
    }
   ],
   "source": [
    "a = Node('tree')\n",
    "b = Node('fish')\n",
    "l = [a,b]\n",
    "l.remove(a)\n",
    "print(l)"
   ]
  },
  {
   "cell_type": "code",
   "execution_count": 21,
   "metadata": {
    "scrolled": true
   },
   "outputs": [
    {
     "name": "stdout",
     "output_type": "stream",
     "text": [
      "agaric\n"
     ]
    }
   ],
   "source": [
    "k_list = []\n",
    "for i in valNames:\n",
    "    if not i in leaf_List:\n",
    "        print (i)\n",
    "    else:\n",
    "        k_list+=[i]\n",
    "len(k_list)\n",
    "for i in valNames:\n",
    "    if valNames.count(i)> 1:\n",
    "        print (i)"
   ]
  },
  {
   "cell_type": "code",
   "execution_count": 318,
   "metadata": {},
   "outputs": [
    {
     "data": {
      "text/plain": [
       "False"
      ]
     },
     "execution_count": 318,
     "metadata": {},
     "output_type": "execute_result"
    }
   ],
   "source": [
    "def is_leaf(Tree, ID = None, name = None):\n",
    "    if Tree.sons == []:\n",
    "        if Tree.name == name or Tree.ID == ID:\n",
    "            return True\n",
    "        else:\n",
    "            return False\n",
    "    else:\n",
    "        is_true = False\n",
    "        for son in Tree.sons:\n",
    "            son_true = is_leaf(son, ID, name)\n",
    "            is_true = is_true or son_true\n",
    "        return is_true\n",
    "is_leaf(root, name = 'mask')"
   ]
  },
  {
   "cell_type": "code",
   "execution_count": 27,
   "metadata": {},
   "outputs": [
    {
     "data": {
      "text/plain": [
       "'mushroom'"
      ]
     },
     "execution_count": 27,
     "metadata": {},
     "output_type": "execute_result"
    }
   ],
   "source": [
    "agaric.sons[0].name"
   ]
  },
  {
   "cell_type": "code",
   "execution_count": 218,
   "metadata": {},
   "outputs": [
    {
     "data": {
      "text/plain": [
       "'sea lion'"
      ]
     },
     "execution_count": 218,
     "metadata": {},
     "output_type": "execute_result"
    }
   ],
   "source": [
    "root.sons[1].name"
   ]
  },
  {
   "cell_type": "code",
   "execution_count": 246,
   "metadata": {},
   "outputs": [
    {
     "data": {
      "text/plain": [
       "'Chihuahua'"
      ]
     },
     "execution_count": 246,
     "metadata": {},
     "output_type": "execute_result"
    }
   ],
   "source": [
    "root.desend(name = valNames[151]).name"
   ]
  },
  {
   "cell_type": "code",
   "execution_count": 321,
   "metadata": {
    "scrolled": true
   },
   "outputs": [
    {
     "data": {
      "text/plain": [
       "'n03725035'"
      ]
     },
     "execution_count": 321,
     "metadata": {},
     "output_type": "execute_result"
    }
   ],
   "source": [
    "thedict['mask']"
   ]
  },
  {
   "cell_type": "code",
   "execution_count": 324,
   "metadata": {},
   "outputs": [
    {
     "name": "stdout",
     "output_type": "stream",
     "text": [
      "['n03725035', 'n04014297', 'n03122748', 'n00021939', 'n00003553', 'n00002684', 'n00001930', 'n00001740']\n"
     ]
    }
   ],
   "source": [
    "for i in exist_papa:\n",
    "    if i[0] == 'n03725035':\n",
    "        print (i)\n"
   ]
  },
  {
   "cell_type": "code",
   "execution_count": 357,
   "metadata": {},
   "outputs": [
    {
     "data": {
      "text/plain": [
       "'mask'"
      ]
     },
     "execution_count": 357,
     "metadata": {},
     "output_type": "execute_result"
    }
   ],
   "source": [
    "root.sons[0].sons[0].sons[0].sons[1].sons[6].sons[1].sons[5].name"
   ]
  },
  {
   "cell_type": "code",
   "execution_count": 360,
   "metadata": {},
   "outputs": [
    {
     "data": {
      "text/plain": [
       "False"
      ]
     },
     "execution_count": 360,
     "metadata": {},
     "output_type": "execute_result"
    }
   ],
   "source": []
  },
  {
   "cell_type": "code",
   "execution_count": null,
   "metadata": {},
   "outputs": [],
   "source": []
  }
 ],
 "metadata": {
  "kernelspec": {
   "display_name": "Python 3",
   "language": "python",
   "name": "python3"
  },
  "language_info": {
   "codemirror_mode": {
    "name": "ipython",
    "version": 3
   },
   "file_extension": ".py",
   "mimetype": "text/x-python",
   "name": "python",
   "nbconvert_exporter": "python",
   "pygments_lexer": "ipython3",
   "version": "3.5.2"
  }
 },
 "nbformat": 4,
 "nbformat_minor": 2
}
